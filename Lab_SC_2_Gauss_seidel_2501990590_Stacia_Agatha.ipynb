{
  "nbformat": 4,
  "nbformat_minor": 0,
  "metadata": {
    "colab": {
      "name": "Lab - SC 2 -Gauss seidel -  2501990590 - Stacia Agatha.ipynb",
      "provenance": [],
      "authorship_tag": "ABX9TyP1HCuQn2nWrl7L2YKFnJIc",
      "include_colab_link": true
    },
    "kernelspec": {
      "name": "python3",
      "display_name": "Python 3"
    },
    "language_info": {
      "name": "python"
    }
  },
  "cells": [
    {
      "cell_type": "markdown",
      "metadata": {
        "id": "view-in-github",
        "colab_type": "text"
      },
      "source": [
        "<a href=\"https://colab.research.google.com/github/Agathastacia/Lab---SC-2---2501990590---Stacia-Agatha/blob/main/Lab_SC_2_Gauss_seidel_2501990590_Stacia_Agatha.ipynb\" target=\"_parent\"><img src=\"https://colab.research.google.com/assets/colab-badge.svg\" alt=\"Open In Colab\"/></a>"
      ]
    },
    {
      "cell_type": "markdown",
      "source": [
        "# **Solve System of Linear Equations in Phyton**"
      ],
      "metadata": {
        "id": "Hi_7rfaTrifj"
      }
    },
    {
      "cell_type": "markdown",
      "source": [
        "### **Gauss Seidel Method**"
      ],
      "metadata": {
        "id": "NL_W8IYerCuK"
      }
    },
    {
      "cell_type": "markdown",
      "source": [
        "Solve this linear equation:\n",
        "*   use pre-defined threshold e = 0.01\n",
        "*   check if the converge condition is satisfied or not\n",
        "\n",
        "8x1 + 3x2 - 3x3 = 14\n",
        "\n",
        "-2x1 - 8x2 + 5x3 = 5\n",
        "\n",
        "3x1 + 5x2 + 10x3 = -8\n"
      ],
      "metadata": {
        "id": "WkB-Va6Hr33A"
      }
    },
    {
      "cell_type": "code",
      "source": [
        "import numpy as np\n",
        "a = [[8, 3, -3], [-2, -8, 5], [3, 5, 10]]\n",
        "\n",
        "# Find diagonal coefficients\n",
        "diag = np.diag(np.abs(a))\n",
        "\n",
        "# Find row sum without diagonal\n",
        "off_diag = np.sum(np.abs(a), axis=1) - diag\n",
        "\n",
        "if np.all(diag > off_diag) :\n",
        "  print(\"matrix is diagonally dominant\")\n",
        "else:\n",
        "  print(\"NOT diagonally dominant\")  "
      ],
      "metadata": {
        "colab": {
          "base_uri": "https://localhost:8080/"
        },
        "id": "Gl_Ef-h0s7vQ",
        "outputId": "e7c116b1-8d2a-49a6-8a04-24a7c66be8e9"
      },
      "execution_count": 6,
      "outputs": [
        {
          "output_type": "stream",
          "name": "stdout",
          "text": [
            "matrix is diagonally dominant\n"
          ]
        }
      ]
    },
    {
      "cell_type": "code",
      "source": [
        "x1 = 0\n",
        "x2 = 0\n",
        "x3 = 0\n",
        "epsilon = 0.01\n",
        "converged = False\n",
        "\n",
        "x_old = np.array([x1, x2, x3])"
      ],
      "metadata": {
        "id": "mV2ynGe-uDxd"
      },
      "execution_count": 7,
      "outputs": []
    },
    {
      "cell_type": "code",
      "source": [
        "print(\"Iteration Result\")\n",
        "print(\" k,    x1,    x2,    x3\")\n",
        "for k in range(1, 50):\n",
        "    x1 = (14-3*x2+3*x3)/8\n",
        "    x2 = (5+2*x1-5*x3)/(-8)\n",
        "    x3 = (-8-3*x1-5*x2)/(10)\n",
        "    x = np.array([x1, x2, x3])\n",
        "\n",
        "    #check if it is smaller than threshold\n",
        "    dx = np.sqrt(np.dot(x-x_old, x-x_old))\n",
        "\n",
        "    print(\"%d, %.4f, %.4f, %.4f\"%(k, x1, x2, x3))\n",
        "    if dx < epsilon:\n",
        "      converged = True\n",
        "      print(\"Converged!\")\n",
        "      break\n",
        "\n",
        "    #assign the latest x value to the old value\n",
        "    x_old = x\n",
        "  \n",
        "if not converged:\n",
        "  print(\"Not converge, increase the # of iterations\")\n",
        "  "
      ],
      "metadata": {
        "id": "gnwXvpFeui-T",
        "colab": {
          "base_uri": "https://localhost:8080/"
        },
        "outputId": "f70d54c1-7d51-4292-d862-c43c4eeab165"
      },
      "execution_count": 8,
      "outputs": [
        {
          "output_type": "stream",
          "name": "stdout",
          "text": [
            "Iteration Result\n",
            " k,    x1,    x2,    x3\n",
            "1, 1.7500, -1.0625, -0.7937\n",
            "2, 1.8508, -1.5838, -0.5633\n",
            "3, 2.1327, -1.5103, -0.6847\n",
            "4, 2.0596, -1.5678, -0.6340\n",
            "5, 2.1002, -1.5463, -0.6569\n",
            "6, 2.0835, -1.5565, -0.6468\n",
            "7, 2.0911, -1.5520, -0.6513\n",
            "Converged!\n"
          ]
        }
      ]
    }
  ]
}