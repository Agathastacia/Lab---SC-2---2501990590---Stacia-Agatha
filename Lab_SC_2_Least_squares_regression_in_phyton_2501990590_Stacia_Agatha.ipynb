{
  "nbformat": 4,
  "nbformat_minor": 0,
  "metadata": {
    "colab": {
      "name": "Lab - SC 2 - Least squares regression in phyton - 2501990590 - Stacia Agatha.ipynb",
      "provenance": [],
      "authorship_tag": "ABX9TyMkLgBPQoAQrmQ2J9ISgVja",
      "include_colab_link": true
    },
    "kernelspec": {
      "name": "python3",
      "display_name": "Python 3"
    },
    "language_info": {
      "name": "python"
    }
  },
  "cells": [
    {
      "cell_type": "markdown",
      "metadata": {
        "id": "view-in-github",
        "colab_type": "text"
      },
      "source": [
        "<a href=\"https://colab.research.google.com/github/Agathastacia/Lab---SC-2---2501990590---Stacia-Agatha/blob/main/Lab_SC_2_Least_squares_regression_in_phyton_2501990590_Stacia_Agatha.ipynb\" target=\"_parent\"><img src=\"https://colab.research.google.com/assets/colab-badge.svg\" alt=\"Open In Colab\"/></a>"
      ]
    },
    {
      "cell_type": "markdown",
      "source": [
        "# **Solve System of Linear Equations in Phyton**"
      ],
      "metadata": {
        "id": "cswH_5MnrCHB"
      }
    },
    {
      "cell_type": "markdown",
      "source": [
        "### **Least Squares Regression in Phyton**"
      ],
      "metadata": {
        "id": "3wSdZL1ErFyO"
      }
    },
    {
      "cell_type": "markdown",
      "source": [
        "**Use direct inverse method**"
      ],
      "metadata": {
        "id": "im6yS6X6rWGA"
      }
    },
    {
      "cell_type": "code",
      "source": [
        "import numpy as np\n",
        "from scipy import optimize\n",
        "import matplotlib.pyplot as plt\n",
        "\n",
        "plt.style.use('seaborn-poster')\n",
        "\n",
        "# generate x and y\n",
        "x = np.linspace(0, 1, 101)\n",
        "y = 1 + x + x * np.random.random(len(x))\n",
        "\n",
        "#assemble matrix A\n",
        "A = np.vstack([x, np.ones(len(x))]).T\n",
        "\n",
        "#turn y into a column vector\n",
        "y = y[:, np.newaxis]\n",
        "\n",
        "#direct least square regression\n",
        "alpha = np.dot((np.dot(np.linalg.inv(np.dot(A.T,A)),A.T)),y)\n",
        "print(alpha)"
      ],
      "metadata": {
        "colab": {
          "base_uri": "https://localhost:8080/"
        },
        "id": "vmxL4wh7rUEX",
        "outputId": "8464b5d3-5990-40e1-f69e-6799ea623cf8"
      },
      "execution_count": 91,
      "outputs": [
        {
          "output_type": "stream",
          "name": "stdout",
          "text": [
            "[[1.5826207 ]\n",
            " [0.98418864]]\n"
          ]
        }
      ]
    },
    {
      "cell_type": "markdown",
      "source": [
        "**Use direct inverse method**"
      ],
      "metadata": {
        "id": "Y-gxki221qhl"
      }
    },
    {
      "cell_type": "code",
      "source": [
        "#plot the result\n",
        "plt.figure(figsize = (10, 8))\n",
        "plt.plot(x, y, 'b. ')\n",
        "plt.plot(x, alpha[0]*x + alpha[1], 'r')\n",
        "plt.xlabel('x')\n",
        "plt.ylabel('y')\n",
        "plt.show()"
      ],
      "metadata": {
        "colab": {
          "base_uri": "https://localhost:8080/",
          "height": 517
        },
        "id": "SEIoQfFi1qBD",
        "outputId": "931abca4-fb3b-44f3-dd6a-e4efd9fdf53b"
      },
      "execution_count": 92,
      "outputs": [
        {
          "output_type": "display_data",
          "data": {
            "text/plain": [
              "<Figure size 720x576 with 1 Axes>"
            ],
            "image/png": "[encoded data removed]"
          },
          "metadata": {
            "needs_background": "light"
          }
        }
      ]
    },
    {
      "cell_type": "markdown",
      "source": [
        "**Use Pseudoinverse**"
      ],
      "metadata": {
        "id": "kur_osfU7mT9"
      }
    },
    {
      "cell_type": "code",
      "source": [
        "pinv = np.linalg.pinv(A)\n",
        "alpha = pinv.dot(y)\n",
        "print(alpha)"
      ],
      "metadata": {
        "colab": {
          "base_uri": "https://localhost:8080/"
        },
        "id": "Pgllv6fm7tpq",
        "outputId": "d1ff901d-9c61-4c94-837f-1332563f2de1"
      },
      "execution_count": 93,
      "outputs": [
        {
          "output_type": "stream",
          "name": "stdout",
          "text": [
            "[[1.5826207 ]\n",
            " [0.98418864]]\n"
          ]
        }
      ]
    },
    {
      "cell_type": "markdown",
      "source": [
        "**Use numpy.linalg.lstsq**"
      ],
      "metadata": {
        "id": "XvZ46Jqw9BQa"
      }
    },
    {
      "cell_type": "code",
      "source": [
        "alpha = np.linalg.lstsq(A, y, rcond=None) [0]\n",
        "print(alpha)"
      ],
      "metadata": {
        "colab": {
          "base_uri": "https://localhost:8080/"
        },
        "id": "7-Q99TRz9Foa",
        "outputId": "f519cee3-b14d-49e0-d977-4bbf4307d227"
      },
      "execution_count": 94,
      "outputs": [
        {
          "output_type": "stream",
          "name": "stdout",
          "text": [
            "[[1.5826207 ]\n",
            " [0.98418864]]\n"
          ]
        }
      ]
    },
    {
      "cell_type": "markdown",
      "source": [
        "**Use optimize.curve_fit from scipy**"
      ],
      "metadata": {
        "id": "Y9_Aualj9XK0"
      }
    },
    {
      "cell_type": "code",
      "source": [
        "# generate x and y\n",
        "x = np.linspace(0, 1, 101)\n",
        "y = 1 + x + x * np.random.random(len(x))\n",
        "\n",
        "def func(x, a, b):\n",
        "    y = a*x + b\n",
        "    return y\n",
        "\n",
        "alpha = optimize.curve_fit(func, xdata = x, ydata = y)[0]\n",
        "print(alpha)"
      ],
      "metadata": {
        "colab": {
          "base_uri": "https://localhost:8080/"
        },
        "id": "tNPCtdlc9c9f",
        "outputId": "e389b0d0-21dd-42dd-8519-087cf3e14072"
      },
      "execution_count": 137,
      "outputs": [
        {
          "output_type": "stream",
          "name": "stdout",
          "text": [
            "[1.5161295  0.99701204]\n"
          ]
        }
      ]
    }
  ]
}