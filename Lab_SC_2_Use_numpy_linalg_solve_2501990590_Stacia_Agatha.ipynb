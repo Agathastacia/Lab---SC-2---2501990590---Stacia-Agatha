{
  "nbformat": 4,
  "nbformat_minor": 0,
  "metadata": {
    "colab": {
      "name": "Lab - SC 2 - Use numpy.linalg.solve - 2501990590 - Stacia Agatha.ipynb",
      "provenance": [],
      "authorship_tag": "ABX9TyP/V7gfA0BACBmEuk4fBLD/",
      "include_colab_link": true
    },
    "kernelspec": {
      "name": "python3",
      "display_name": "Python 3"
    },
    "language_info": {
      "name": "python"
    }
  },
  "cells": [
    {
      "cell_type": "markdown",
      "metadata": {
        "id": "view-in-github",
        "colab_type": "text"
      },
      "source": [
        "<a href=\"https://colab.research.google.com/github/Agathastacia/Lab---SC-2---2501990590---Stacia-Agatha/blob/main/Lab_SC_2_Use_numpy_linalg_solve_2501990590_Stacia_Agatha.ipynb\" target=\"_parent\"><img src=\"https://colab.research.google.com/assets/colab-badge.svg\" alt=\"Open In Colab\"/></a>"
      ]
    },
    {
      "cell_type": "markdown",
      "source": [
        "# **Solve System of Linear Equations in Phyton**"
      ],
      "metadata": {
        "id": "Fw8Gfo9Co421"
      }
    },
    {
      "cell_type": "markdown",
      "source": [
        "### **Use numpy.linalg.solve**"
      ],
      "metadata": {
        "id": "aF7Z82uVpHwm"
      }
    },
    {
      "cell_type": "code",
      "source": [
        "import numpy as np\n",
        "\n",
        "A = np.array([[4, 3, -5],[-2, -4, 5], [8, 8, 0]])\n",
        "y = np.array([2, 5, -3])\n",
        "\n",
        "x = np.linalg.solve(A, y)\n",
        "print(x)"
      ],
      "metadata": {
        "colab": {
          "base_uri": "https://localhost:8080/"
        },
        "id": "nZXUbpRtpOlX",
        "outputId": "d259a1f5-99b2-44af-b758-e47e178c6d01"
      },
      "execution_count": 1,
      "outputs": [
        {
          "output_type": "stream",
          "name": "stdout",
          "text": [
            "[ 2.20833333 -2.58333333 -0.18333333]\n"
          ]
        }
      ]
    },
    {
      "cell_type": "markdown",
      "source": [
        "**Using the matrix inversion approach**"
      ],
      "metadata": {
        "id": "QIBw69Azp4YX"
      }
    },
    {
      "cell_type": "code",
      "source": [
        "A_inv = np.linalg.inv(A)\n",
        "\n",
        "x = np.dot(A_inv, y)\n",
        "print(x)"
      ],
      "metadata": {
        "colab": {
          "base_uri": "https://localhost:8080/"
        },
        "id": "aDV1WyXIpqjD",
        "outputId": "9cb65cea-0d01-468b-d2d0-d0bfabf8aa91"
      },
      "execution_count": 2,
      "outputs": [
        {
          "output_type": "stream",
          "name": "stdout",
          "text": [
            "[ 2.20833333 -2.58333333 -0.18333333]\n"
          ]
        }
      ]
    }
  ]
}